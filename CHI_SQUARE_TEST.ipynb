{
  "nbformat": 4,
  "nbformat_minor": 0,
  "metadata": {
    "colab": {
      "provenance": []
    },
    "kernelspec": {
      "name": "python3",
      "display_name": "Python 3"
    },
    "language_info": {
      "name": "python"
    }
  },
  "cells": [
    {
      "cell_type": "markdown",
      "source": [
        "State the Hypotheses:\n",
        "\n",
        "Null Hypothesis (H0): There is no significant association between the type of smart home device purchased (Smart Thermostats vs. Smart Lights) and the customer satisfaction level.\n",
        "\n",
        "Alternative Hypothesis (H1): There is a significant association between the type of smart home device purchased (Smart Thermostats vs. Smart Lights) and the customer satisfaction level.\n",
        "\n"
      ],
      "metadata": {
        "id": "VF-2_oSNXXi7"
      }
    },
    {
      "cell_type": "code",
      "source": [
        "import numpy as np\n",
        "import pandas as pd\n",
        "from scipy.stats import chi2_contingency\n",
        "# Step 1: State the Hypotheses\n",
        "# H0: The type of smart home device and customer satisfaction levels are independent.\n",
        "# H1: There is an association between the type of smart home device and customer satisfaction levels.\n"
      ],
      "metadata": {
        "id": "P3OtVd2DXaga"
      },
      "execution_count": 12,
      "outputs": []
    },
    {
      "cell_type": "code",
      "source": [
        "# Step 1: Input the observed data\n",
        "observed = np.array([\n",
        "    [50, 70],  # Very Satisfied\n",
        "    [80, 100], # Satisfied\n",
        "    [60, 90],  # Neutral\n",
        "    [30, 50],  # Unsatisfied\n",
        "    [20, 50]   # Very Unsatisfied\n",
        "])\n"
      ],
      "metadata": {
        "id": "4sCE2JWeXgjv"
      },
      "execution_count": 13,
      "outputs": []
    },
    {
      "cell_type": "code",
      "source": [
        "# Step3: Compute the Chi-Square statistic and expected frequencies\n",
        "chi2_stat, p_value, dof, expected = chi2_contingency(observed)\n"
      ],
      "metadata": {
        "id": "GrLOrKmZGt-M"
      },
      "execution_count": 14,
      "outputs": []
    },
    {
      "cell_type": "code",
      "source": [
        "# Step 4: Determine the critical value\n",
        "from scipy.stats import chi2 #import the chi2 object\n",
        "alpha = 0.05\n",
        "critical_value = chi2.ppf(1 - alpha, dof)\n",
        "\n"
      ],
      "metadata": {
        "id": "n9Nt7sllHosx"
      },
      "execution_count": 15,
      "outputs": []
    },
    {
      "cell_type": "code",
      "source": [
        "# Step 5: Decision\n",
        "if chi2_stat > critical_value:\n",
        "    decision = \"Reject the null hypothesis. There is a significant association between the device type and customer satisfaction.\"\n",
        "else:\n",
        "    decision = \"Fail to reject the null hypothesis. No significant association exists between the device type and customer satisfaction.\"\n",
        "\n",
        "# Print results\n",
        "print(\"Hypotheses:\")\n",
        "print(\"H0: The type of smart home device and customer satisfaction levels are independent.\")\n",
        "print(\"H1: There is an association between the type of smart home device and customer satisfaction levels.\")\n",
        "print(\"\\nObserved Data:\")\n",
        "print(pd.DataFrame(observed, columns=[\"Smart Thermostat\", \"Smart Light\"],\n",
        "                   index=[\"Very Satisfied\", \"Satisfied\", \"Neutral\", \"Unsatisfied\", \"Very Unsatisfied\"]))\n",
        "print(\"\\nExpected Frequencies:\")\n",
        "print(pd.DataFrame(np.round(expected, 2), columns=[\"Smart Thermostat\", \"Smart Light\"],\n",
        "                   index=[\"Very Satisfied\", \"Satisfied\", \"Neutral\", \"Unsatisfied\", \"Very Unsatisfied\"]))\n",
        "print(f\"\\nChi-Square Statistic: {chi2_stat:.2f}\")\n",
        "print(f\"Degrees of Freedom: {dof}\")\n",
        "print(f\"Critical Value: {critical_value:.2f}\")\n",
        "print(f\"p-Value: {p_value:.4f}\")\n",
        "print(f\"\\nDecision: {decision}\")\n"
      ],
      "metadata": {
        "colab": {
          "base_uri": "https://localhost:8080/"
        },
        "id": "9yzfTRGgIH8k",
        "outputId": "264372bd-f407-4ba2-a57a-5cd7dcb9bda0"
      },
      "execution_count": 17,
      "outputs": [
        {
          "output_type": "stream",
          "name": "stdout",
          "text": [
            "Hypotheses:\n",
            "H0: The type of smart home device and customer satisfaction levels are independent.\n",
            "H1: There is an association between the type of smart home device and customer satisfaction levels.\n",
            "\n",
            "Observed Data:\n",
            "                  Smart Thermostat  Smart Light\n",
            "Very Satisfied                  50           70\n",
            "Satisfied                       80          100\n",
            "Neutral                         60           90\n",
            "Unsatisfied                     30           50\n",
            "Very Unsatisfied                20           50\n",
            "\n",
            "Expected Frequencies:\n",
            "                  Smart Thermostat  Smart Light\n",
            "Very Satisfied                48.0         72.0\n",
            "Satisfied                     72.0        108.0\n",
            "Neutral                       60.0         90.0\n",
            "Unsatisfied                   32.0         48.0\n",
            "Very Unsatisfied              28.0         42.0\n",
            "\n",
            "Chi-Square Statistic: 5.64\n",
            "Degrees of Freedom: 4\n",
            "Critical Value: 9.49\n",
            "p-Value: 0.2278\n",
            "\n",
            "Decision: Fail to reject the null hypothesis. No significant association exists between the device type and customer satisfaction.\n"
          ]
        }
      ]
    },
    {
      "cell_type": "code",
      "source": [],
      "metadata": {
        "id": "c4JGYjYvMJbc"
      },
      "execution_count": null,
      "outputs": []
    }
  ]
}